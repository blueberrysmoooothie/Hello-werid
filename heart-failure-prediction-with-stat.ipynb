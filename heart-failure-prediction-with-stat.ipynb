{
 "cells": [
  {
   "cell_type": "code",
   "execution_count": 1,
   "id": "5e626dbe",
   "metadata": {
    "_cell_guid": "b1076dfc-b9ad-4769-8c92-a6c4dae69d19",
    "_uuid": "8f2839f25d086af736a60e9eeb907d3b93b6e0e5",
    "execution": {
     "iopub.execute_input": "2021-11-15T05:44:25.255762Z",
     "iopub.status.busy": "2021-11-15T05:44:25.249598Z",
     "iopub.status.idle": "2021-11-15T05:44:25.269498Z",
     "shell.execute_reply": "2021-11-15T05:44:25.270023Z",
     "shell.execute_reply.started": "2021-11-15T04:53:41.122276Z"
    },
    "papermill": {
     "duration": 0.046869,
     "end_time": "2021-11-15T05:44:25.270389",
     "exception": false,
     "start_time": "2021-11-15T05:44:25.223520",
     "status": "completed"
    },
    "tags": []
   },
   "outputs": [
    {
     "name": "stdout",
     "output_type": "stream",
     "text": [
      "/kaggle/input/heart-failure-prediction/heart.csv\n"
     ]
    }
   ],
   "source": [
    "# This Python 3 environment comes with many helpful analytics libraries installed\n",
    "# It is defined by the kaggle/python Docker image: https://github.com/kaggle/docker-python\n",
    "# For example, here's several helpful packages to load\n",
    "\n",
    "import numpy as np # linear algebra\n",
    "import pandas as pd # data processing, CSV file I/O (e.g. pd.read_csv)\n",
    "\n",
    "# Input data files are available in the read-only \"../input/\" directory\n",
    "# For example, running this (by clicking run or pressing Shift+Enter) will list all files under the input directory\n",
    "\n",
    "import os\n",
    "for dirname, _, filenames in os.walk('/kaggle/input'):\n",
    "    for filename in filenames:\n",
    "        print(os.path.join(dirname, filename))\n",
    "\n",
    "# You can write up to 20GB to the current directory (/kaggle/working/) that gets preserved as output when you create a version using \"Save & Run All\" \n",
    "# You can also write temporary files to /kaggle/temp/, but they won't be saved outside of the current session"
   ]
  },
  {
   "cell_type": "code",
   "execution_count": 2,
   "id": "15e390ec",
   "metadata": {
    "execution": {
     "iopub.execute_input": "2021-11-15T05:44:25.315767Z",
     "iopub.status.busy": "2021-11-15T05:44:25.315127Z",
     "iopub.status.idle": "2021-11-15T05:44:25.334672Z",
     "shell.execute_reply": "2021-11-15T05:44:25.334138Z",
     "shell.execute_reply.started": "2021-11-15T04:53:41.582751Z"
    },
    "papermill": {
     "duration": 0.044383,
     "end_time": "2021-11-15T05:44:25.334822",
     "exception": false,
     "start_time": "2021-11-15T05:44:25.290439",
     "status": "completed"
    },
    "tags": []
   },
   "outputs": [],
   "source": [
    "data = pd.read_csv(\"/kaggle/input/heart-failure-prediction/heart.csv\")"
   ]
  },
  {
   "cell_type": "markdown",
   "id": "29ca6788",
   "metadata": {
    "papermill": {
     "duration": 0.019724,
     "end_time": "2021-11-15T05:44:25.373567",
     "exception": false,
     "start_time": "2021-11-15T05:44:25.353843",
     "status": "completed"
    },
    "tags": []
   },
   "source": [
    "1.Age: age of the patient [years]\n",
    "\n",
    "2.Sex: sex of the patient [M: Male, F: Female]\n",
    "\n",
    "3.ChestPainType: chest pain type [TA: Typical Angina, ATA: Atypical Angina, NAP: Non-Anginal Pain, ASY: Asymptomatic]\n",
    "\n",
    "4.RestingBP: resting blood pressure [mm Hg]\n",
    "    (안정 혈압)\n",
    "\n",
    "5.Cholesterol: serum cholesterol [mm/dl]\n",
    "    (0 is impossible)\n",
    "\n",
    "6.FastingBS: fasting blood sugar [1: if FastingBS > 120 mg/dl, 0: otherwise]\n",
    "    (공복 혈당)\n",
    "\n",
    "7.RestingECG: resting electrocardiogram results [Normal: Normal, ST: having ST-T wave abnormality (T wave inversions and/or ST elevation or depression of > 0.05 mV), LVH: showing probable or definite     left ventricular hypertrophy by Estes' criteria]\n",
    "    (심전도)\n",
    "\n",
    "8.MaxHR: maximum heart rate achieved [Numeric value between 60 and 202]\n",
    "    (최대 혈압)\n",
    "\n",
    "9.ExerciseAngina: exercise-induced angina [Y: Yes, N: No]\n",
    "    (운동으로 유발된 협심증 유무)\n",
    "\n",
    "10.Oldpeak: oldpeak = ST [Numeric value measured in depression]\n",
    "    ()\n",
    "\n",
    "11.ST_Slope: the slope of the peak exercise ST segment [Up: upsloping, Flat: flat, Down: downsloping]\n",
    "12.HeartDisease: output class [1: heart disease, 0: Normal]"
   ]
  },
  {
   "cell_type": "markdown",
   "id": "55d25a3c",
   "metadata": {
    "papermill": {
     "duration": 0.018545,
     "end_time": "2021-11-15T05:44:25.411527",
     "exception": false,
     "start_time": "2021-11-15T05:44:25.392982",
     "status": "completed"
    },
    "tags": []
   },
   "source": [
    "그래프는 tebleau 로 하고\n",
    "결측치, 이상치 탐색"
   ]
  },
  {
   "cell_type": "code",
   "execution_count": 3,
   "id": "1736221a",
   "metadata": {
    "execution": {
     "iopub.execute_input": "2021-11-15T05:44:25.461519Z",
     "iopub.status.busy": "2021-11-15T05:44:25.460809Z",
     "iopub.status.idle": "2021-11-15T05:44:25.465322Z",
     "shell.execute_reply": "2021-11-15T05:44:25.464774Z",
     "shell.execute_reply.started": "2021-11-15T04:53:42.929134Z"
    },
    "papermill": {
     "duration": 0.035048,
     "end_time": "2021-11-15T05:44:25.465469",
     "exception": false,
     "start_time": "2021-11-15T05:44:25.430421",
     "status": "completed"
    },
    "tags": []
   },
   "outputs": [
    {
     "name": "stdout",
     "output_type": "stream",
     "text": [
      "Age               0\n",
      "Sex               0\n",
      "ChestPainType     0\n",
      "RestingBP         0\n",
      "Cholesterol       0\n",
      "FastingBS         0\n",
      "RestingECG        0\n",
      "MaxHR             0\n",
      "ExerciseAngina    0\n",
      "Oldpeak           0\n",
      "ST_Slope          0\n",
      "HeartDisease      0\n",
      "dtype: int64 \n",
      "\n",
      "Age               0\n",
      "Sex               0\n",
      "ChestPainType     0\n",
      "RestingBP         0\n",
      "Cholesterol       0\n",
      "FastingBS         0\n",
      "RestingECG        0\n",
      "MaxHR             0\n",
      "ExerciseAngina    0\n",
      "Oldpeak           0\n",
      "ST_Slope          0\n",
      "HeartDisease      0\n",
      "dtype: int64\n"
     ]
    }
   ],
   "source": [
    "#결측치 \n",
    "print(data.isna().sum(), \"\\n\")\n",
    "print(data.isnull().sum())\n"
   ]
  },
  {
   "cell_type": "code",
   "execution_count": 4,
   "id": "02773840",
   "metadata": {
    "execution": {
     "iopub.execute_input": "2021-11-15T05:44:25.514840Z",
     "iopub.status.busy": "2021-11-15T05:44:25.513996Z",
     "iopub.status.idle": "2021-11-15T05:44:25.517737Z",
     "shell.execute_reply": "2021-11-15T05:44:25.518188Z",
     "shell.execute_reply.started": "2021-11-15T04:53:43.380630Z"
    },
    "papermill": {
     "duration": 0.033461,
     "end_time": "2021-11-15T05:44:25.518396",
     "exception": false,
     "start_time": "2021-11-15T05:44:25.484935",
     "status": "completed"
    },
    "tags": []
   },
   "outputs": [
    {
     "data": {
      "text/plain": [
       "Index(['Age', 'Sex', 'ChestPainType', 'RestingBP', 'Cholesterol', 'FastingBS',\n",
       "       'RestingECG', 'MaxHR', 'ExerciseAngina', 'Oldpeak', 'ST_Slope',\n",
       "       'HeartDisease'],\n",
       "      dtype='object')"
      ]
     },
     "execution_count": 4,
     "metadata": {},
     "output_type": "execute_result"
    }
   ],
   "source": [
    "data.columns"
   ]
  },
  {
   "cell_type": "code",
   "execution_count": 5,
   "id": "0c3a5f06",
   "metadata": {
    "execution": {
     "iopub.execute_input": "2021-11-15T05:44:25.561726Z",
     "iopub.status.busy": "2021-11-15T05:44:25.560800Z",
     "iopub.status.idle": "2021-11-15T05:44:25.564946Z",
     "shell.execute_reply": "2021-11-15T05:44:25.565521Z",
     "shell.execute_reply.started": "2021-11-15T04:53:43.860243Z"
    },
    "papermill": {
     "duration": 0.027604,
     "end_time": "2021-11-15T05:44:25.565700",
     "exception": false,
     "start_time": "2021-11-15T05:44:25.538096",
     "status": "completed"
    },
    "tags": []
   },
   "outputs": [],
   "source": [
    "num_cols = ['Age', 'RestingBP', 'Cholesterol', 'MaxHR', 'Oldpeak']"
   ]
  },
  {
   "cell_type": "code",
   "execution_count": 6,
   "id": "a5d91356",
   "metadata": {
    "execution": {
     "iopub.execute_input": "2021-11-15T05:44:25.615115Z",
     "iopub.status.busy": "2021-11-15T05:44:25.614487Z",
     "iopub.status.idle": "2021-11-15T05:44:25.650574Z",
     "shell.execute_reply": "2021-11-15T05:44:25.651096Z",
     "shell.execute_reply.started": "2021-11-15T04:53:44.291673Z"
    },
    "papermill": {
     "duration": 0.065476,
     "end_time": "2021-11-15T05:44:25.651333",
     "exception": false,
     "start_time": "2021-11-15T05:44:25.585857",
     "status": "completed"
    },
    "tags": []
   },
   "outputs": [
    {
     "data": {
      "text/html": [
       "<div>\n",
       "<style scoped>\n",
       "    .dataframe tbody tr th:only-of-type {\n",
       "        vertical-align: middle;\n",
       "    }\n",
       "\n",
       "    .dataframe tbody tr th {\n",
       "        vertical-align: top;\n",
       "    }\n",
       "\n",
       "    .dataframe thead th {\n",
       "        text-align: right;\n",
       "    }\n",
       "</style>\n",
       "<table border=\"1\" class=\"dataframe\">\n",
       "  <thead>\n",
       "    <tr style=\"text-align: right;\">\n",
       "      <th></th>\n",
       "      <th>Age</th>\n",
       "      <th>RestingBP</th>\n",
       "      <th>Cholesterol</th>\n",
       "      <th>MaxHR</th>\n",
       "      <th>Oldpeak</th>\n",
       "    </tr>\n",
       "  </thead>\n",
       "  <tbody>\n",
       "    <tr>\n",
       "      <th>count</th>\n",
       "      <td>918.000000</td>\n",
       "      <td>918.000000</td>\n",
       "      <td>918.000000</td>\n",
       "      <td>918.000000</td>\n",
       "      <td>918.000000</td>\n",
       "    </tr>\n",
       "    <tr>\n",
       "      <th>mean</th>\n",
       "      <td>53.510893</td>\n",
       "      <td>132.396514</td>\n",
       "      <td>198.799564</td>\n",
       "      <td>136.809368</td>\n",
       "      <td>0.887364</td>\n",
       "    </tr>\n",
       "    <tr>\n",
       "      <th>std</th>\n",
       "      <td>9.432617</td>\n",
       "      <td>18.514154</td>\n",
       "      <td>109.384145</td>\n",
       "      <td>25.460334</td>\n",
       "      <td>1.066570</td>\n",
       "    </tr>\n",
       "    <tr>\n",
       "      <th>min</th>\n",
       "      <td>28.000000</td>\n",
       "      <td>0.000000</td>\n",
       "      <td>0.000000</td>\n",
       "      <td>60.000000</td>\n",
       "      <td>-2.600000</td>\n",
       "    </tr>\n",
       "    <tr>\n",
       "      <th>25%</th>\n",
       "      <td>47.000000</td>\n",
       "      <td>120.000000</td>\n",
       "      <td>173.250000</td>\n",
       "      <td>120.000000</td>\n",
       "      <td>0.000000</td>\n",
       "    </tr>\n",
       "    <tr>\n",
       "      <th>50%</th>\n",
       "      <td>54.000000</td>\n",
       "      <td>130.000000</td>\n",
       "      <td>223.000000</td>\n",
       "      <td>138.000000</td>\n",
       "      <td>0.600000</td>\n",
       "    </tr>\n",
       "    <tr>\n",
       "      <th>75%</th>\n",
       "      <td>60.000000</td>\n",
       "      <td>140.000000</td>\n",
       "      <td>267.000000</td>\n",
       "      <td>156.000000</td>\n",
       "      <td>1.500000</td>\n",
       "    </tr>\n",
       "    <tr>\n",
       "      <th>max</th>\n",
       "      <td>77.000000</td>\n",
       "      <td>200.000000</td>\n",
       "      <td>603.000000</td>\n",
       "      <td>202.000000</td>\n",
       "      <td>6.200000</td>\n",
       "    </tr>\n",
       "  </tbody>\n",
       "</table>\n",
       "</div>"
      ],
      "text/plain": [
       "              Age   RestingBP  Cholesterol       MaxHR     Oldpeak\n",
       "count  918.000000  918.000000   918.000000  918.000000  918.000000\n",
       "mean    53.510893  132.396514   198.799564  136.809368    0.887364\n",
       "std      9.432617   18.514154   109.384145   25.460334    1.066570\n",
       "min     28.000000    0.000000     0.000000   60.000000   -2.600000\n",
       "25%     47.000000  120.000000   173.250000  120.000000    0.000000\n",
       "50%     54.000000  130.000000   223.000000  138.000000    0.600000\n",
       "75%     60.000000  140.000000   267.000000  156.000000    1.500000\n",
       "max     77.000000  200.000000   603.000000  202.000000    6.200000"
      ]
     },
     "execution_count": 6,
     "metadata": {},
     "output_type": "execute_result"
    }
   ],
   "source": [
    "data[num_cols].describe()"
   ]
  },
  {
   "cell_type": "code",
   "execution_count": 7,
   "id": "761e2c5d",
   "metadata": {
    "execution": {
     "iopub.execute_input": "2021-11-15T05:44:25.707044Z",
     "iopub.status.busy": "2021-11-15T05:44:25.706359Z",
     "iopub.status.idle": "2021-11-15T05:44:26.005999Z",
     "shell.execute_reply": "2021-11-15T05:44:26.006489Z",
     "shell.execute_reply.started": "2021-11-15T04:53:44.981209Z"
    },
    "papermill": {
     "duration": 0.329595,
     "end_time": "2021-11-15T05:44:26.006664",
     "exception": false,
     "start_time": "2021-11-15T05:44:25.677069",
     "status": "completed"
    },
    "tags": []
   },
   "outputs": [
    {
     "data": {
      "text/plain": [
       "<AxesSubplot:>"
      ]
     },
     "execution_count": 7,
     "metadata": {},
     "output_type": "execute_result"
    },
    {
     "data": {
      "image/png": "[encoded data removed]",
      "text/plain": [
       "<Figure size 432x288 with 1 Axes>"
      ]
     },
     "metadata": {
      "needs_background": "light"
     },
     "output_type": "display_data"
    }
   ],
   "source": [
    "data.boxplot(num_cols)"
   ]
  },
  {
   "cell_type": "code",
   "execution_count": 8,
   "id": "4f854e6e",
   "metadata": {
    "execution": {
     "iopub.execute_input": "2021-11-15T05:44:26.056937Z",
     "iopub.status.busy": "2021-11-15T05:44:26.056295Z",
     "iopub.status.idle": "2021-11-15T05:44:26.058033Z",
     "shell.execute_reply": "2021-11-15T05:44:26.058512Z",
     "shell.execute_reply.started": "2021-11-15T04:53:45.994257Z"
    },
    "papermill": {
     "duration": 0.030787,
     "end_time": "2021-11-15T05:44:26.058693",
     "exception": false,
     "start_time": "2021-11-15T05:44:26.027906",
     "status": "completed"
    },
    "tags": []
   },
   "outputs": [],
   "source": [
    "# Resting BP, Cholesterol 이 0일 수 없으므로 중앙값으로 변경\n",
    "data.loc[data['RestingBP'] ==0,'RestingBP']  = data['RestingBP'].median()\n",
    "\n",
    "# Cholesterol 에서 심장병이 있는사람이 0인 경우가 많은데 다른 방법으로 변경 필요 \n",
    "data.loc[data['Cholesterol'] ==0,'Cholesterol']  = data['Cholesterol'].median()\n"
   ]
  },
  {
   "cell_type": "code",
   "execution_count": 9,
   "id": "8af44d4a",
   "metadata": {
    "execution": {
     "iopub.execute_input": "2021-11-15T05:44:26.116727Z",
     "iopub.status.busy": "2021-11-15T05:44:26.115783Z",
     "iopub.status.idle": "2021-11-15T05:44:26.126078Z",
     "shell.execute_reply": "2021-11-15T05:44:26.126829Z",
     "shell.execute_reply.started": "2021-11-15T04:53:46.891611Z"
    },
    "papermill": {
     "duration": 0.042829,
     "end_time": "2021-11-15T05:44:26.127048",
     "exception": false,
     "start_time": "2021-11-15T05:44:26.084219",
     "status": "completed"
    },
    "tags": []
   },
   "outputs": [
    {
     "name": "stdout",
     "output_type": "stream",
     "text": [
      "Series([], Name: RestingBP, dtype: int64)\n",
      "Series([], Name: Cholesterol, dtype: int64)\n"
     ]
    }
   ],
   "source": [
    "print(data[data['RestingBP'] ==0]['RestingBP'])\n",
    "print(data[data['Cholesterol'] ==0]['Cholesterol'])\n"
   ]
  },
  {
   "cell_type": "code",
   "execution_count": 10,
   "id": "8afb5626",
   "metadata": {
    "execution": {
     "iopub.execute_input": "2021-11-15T05:44:26.181653Z",
     "iopub.status.busy": "2021-11-15T05:44:26.180637Z",
     "iopub.status.idle": "2021-11-15T05:44:26.188012Z",
     "shell.execute_reply": "2021-11-15T05:44:26.188692Z",
     "shell.execute_reply.started": "2021-11-15T04:53:50.217914Z"
    },
    "papermill": {
     "duration": 0.036074,
     "end_time": "2021-11-15T05:44:26.188912",
     "exception": false,
     "start_time": "2021-11-15T05:44:26.152838",
     "status": "completed"
    },
    "tags": []
   },
   "outputs": [],
   "source": [
    "def outlier_find(data,num_cols_list):\n",
    "    out_lier_indexs = []\n",
    "    \n",
    "    for num_col in num_cols_list :\n",
    "        out_lier_index = []\n",
    "        Q1 = np.percentile(data[num_col], 25)\n",
    "        Q3 = np.percentile(data[num_col], 75)\n",
    "        \n",
    "        IQR = Q3-1\n",
    "        \n",
    "        lower_bound = Q1 - IQR*1.5\n",
    "        upper_bound = Q3 + IQR*1.5\n",
    "        \n",
    "        out_lier_index_list = data[(data[num_col]<lower_bound )| (data[num_col]>upper_bound)].index\n",
    "        out_lier_index.extend(out_lier_index_list)\n",
    "        out_lier_indexs.append(out_lier_index)\n",
    "        \n",
    "    o_data = pd.DataFrame(\n",
    "        {\n",
    "            'num_cols' : num_cols_list,\n",
    "            'out_lier_index' : out_lier_indexs\n",
    "        }\n",
    "    )\n",
    "    return(o_data)"
   ]
  },
  {
   "cell_type": "code",
   "execution_count": 11,
   "id": "ed4bd938",
   "metadata": {
    "execution": {
     "iopub.execute_input": "2021-11-15T05:44:26.239409Z",
     "iopub.status.busy": "2021-11-15T05:44:26.238444Z",
     "iopub.status.idle": "2021-11-15T05:44:26.243929Z",
     "shell.execute_reply": "2021-11-15T05:44:26.244397Z",
     "shell.execute_reply.started": "2021-11-15T04:53:52.027644Z"
    },
    "papermill": {
     "duration": 0.030613,
     "end_time": "2021-11-15T05:44:26.244584",
     "exception": false,
     "start_time": "2021-11-15T05:44:26.213971",
     "status": "completed"
    },
    "tags": []
   },
   "outputs": [
    {
     "data": {
      "text/plain": [
       "918"
      ]
     },
     "execution_count": 11,
     "metadata": {},
     "output_type": "execute_result"
    }
   ],
   "source": [
    "len(data)"
   ]
  },
  {
   "cell_type": "code",
   "execution_count": 12,
   "id": "81a74915",
   "metadata": {
    "execution": {
     "iopub.execute_input": "2021-11-15T05:44:26.292998Z",
     "iopub.status.busy": "2021-11-15T05:44:26.292025Z",
     "iopub.status.idle": "2021-11-15T05:44:26.307909Z",
     "shell.execute_reply": "2021-11-15T05:44:26.307228Z",
     "shell.execute_reply.started": "2021-11-15T04:53:53.676647Z"
    },
    "papermill": {
     "duration": 0.041663,
     "end_time": "2021-11-15T05:44:26.308062",
     "exception": false,
     "start_time": "2021-11-15T05:44:26.266399",
     "status": "completed"
    },
    "tags": []
   },
   "outputs": [
    {
     "name": "stdout",
     "output_type": "stream",
     "text": [
      "      num_cols                                     out_lier_index\n",
      "0          Age                                                 []\n",
      "1    RestingBP                                                 []\n",
      "2  Cholesterol                                                 []\n",
      "3        MaxHR                                                 []\n",
      "4      Oldpeak  [19, 23, 26, 68, 111, 140, 141, 142, 155, 166,...\n",
      "101\n"
     ]
    }
   ],
   "source": [
    "o_list = outlier_find(data, num_cols)\n",
    "print(o_list)\n",
    "print(len(o_list.loc[4,'out_lier_index']))"
   ]
  },
  {
   "cell_type": "code",
   "execution_count": 13,
   "id": "131b0763",
   "metadata": {
    "execution": {
     "iopub.execute_input": "2021-11-15T05:44:26.356474Z",
     "iopub.status.busy": "2021-11-15T05:44:26.355533Z",
     "iopub.status.idle": "2021-11-15T05:44:26.526876Z",
     "shell.execute_reply": "2021-11-15T05:44:26.527419Z",
     "shell.execute_reply.started": "2021-11-15T04:53:55.758549Z"
    },
    "papermill": {
     "duration": 0.197248,
     "end_time": "2021-11-15T05:44:26.527625",
     "exception": false,
     "start_time": "2021-11-15T05:44:26.330377",
     "status": "completed"
    },
    "tags": []
   },
   "outputs": [
    {
     "data": {
      "text/plain": [
       "<AxesSubplot:>"
      ]
     },
     "execution_count": 13,
     "metadata": {},
     "output_type": "execute_result"
    },
    {
     "data": {
      "image/png": "[encoded data removed]",
      "text/plain": [
       "<Figure size 432x288 with 1 Axes>"
      ]
     },
     "metadata": {
      "needs_background": "light"
     },
     "output_type": "display_data"
    }
   ],
   "source": [
    "data.boxplot('Oldpeak')"
   ]
  },
  {
   "cell_type": "markdown",
   "id": "452702c1",
   "metadata": {
    "papermill": {
     "duration": 0.025346,
     "end_time": "2021-11-15T05:44:26.581574",
     "exception": false,
     "start_time": "2021-11-15T05:44:26.556228",
     "status": "completed"
    },
    "tags": []
   },
   "source": [
    "min-max 정규화"
   ]
  },
  {
   "cell_type": "code",
   "execution_count": 14,
   "id": "d9f4dc99",
   "metadata": {
    "execution": {
     "iopub.execute_input": "2021-11-15T05:44:26.638660Z",
     "iopub.status.busy": "2021-11-15T05:44:26.637964Z",
     "iopub.status.idle": "2021-11-15T05:44:27.654458Z",
     "shell.execute_reply": "2021-11-15T05:44:27.653900Z",
     "shell.execute_reply.started": "2021-11-15T04:53:58.490820Z"
    },
    "papermill": {
     "duration": 1.046848,
     "end_time": "2021-11-15T05:44:27.654625",
     "exception": false,
     "start_time": "2021-11-15T05:44:26.607777",
     "status": "completed"
    },
    "tags": []
   },
   "outputs": [],
   "source": [
    "from sklearn.preprocessing import MinMaxScaler\n"
   ]
  },
  {
   "cell_type": "code",
   "execution_count": 15,
   "id": "28e3194d",
   "metadata": {
    "execution": {
     "iopub.execute_input": "2021-11-15T05:44:27.728623Z",
     "iopub.status.busy": "2021-11-15T05:44:27.727903Z",
     "iopub.status.idle": "2021-11-15T05:44:27.731706Z",
     "shell.execute_reply": "2021-11-15T05:44:27.732295Z",
     "shell.execute_reply.started": "2021-11-15T04:53:59.598910Z"
    },
    "papermill": {
     "duration": 0.051097,
     "end_time": "2021-11-15T05:44:27.732466",
     "exception": false,
     "start_time": "2021-11-15T05:44:27.681369",
     "status": "completed"
    },
    "tags": []
   },
   "outputs": [
    {
     "data": {
      "text/plain": [
       "0      0.0\n",
       "1      1.0\n",
       "2      0.0\n",
       "3      1.5\n",
       "4      0.0\n",
       "      ... \n",
       "913    1.2\n",
       "914    3.4\n",
       "915    1.2\n",
       "916    0.0\n",
       "917    0.0\n",
       "Name: Oldpeak, Length: 918, dtype: float64"
      ]
     },
     "execution_count": 15,
     "metadata": {},
     "output_type": "execute_result"
    }
   ],
   "source": [
    "data['Oldpeak']"
   ]
  },
  {
   "cell_type": "code",
   "execution_count": 16,
   "id": "169e0ff5",
   "metadata": {
    "execution": {
     "iopub.execute_input": "2021-11-15T05:44:27.792017Z",
     "iopub.status.busy": "2021-11-15T05:44:27.787413Z",
     "iopub.status.idle": "2021-11-15T05:44:27.797596Z",
     "shell.execute_reply": "2021-11-15T05:44:27.798126Z",
     "shell.execute_reply.started": "2021-11-15T05:02:10.123537Z"
    },
    "papermill": {
     "duration": 0.036965,
     "end_time": "2021-11-15T05:44:27.798326",
     "exception": false,
     "start_time": "2021-11-15T05:44:27.761361",
     "status": "completed"
    },
    "tags": []
   },
   "outputs": [],
   "source": [
    "minmax = MinMaxScaler()\n",
    "scaled_num_data = minmax.fit_transform(data[num_cols])\n",
    "scaled_num_data = pd.DataFrame(scaled_num_data, columns= num_cols)"
   ]
  },
  {
   "cell_type": "code",
   "execution_count": 17,
   "id": "bf1b4358",
   "metadata": {
    "execution": {
     "iopub.execute_input": "2021-11-15T05:44:27.851330Z",
     "iopub.status.busy": "2021-11-15T05:44:27.850691Z",
     "iopub.status.idle": "2021-11-15T05:44:28.257758Z",
     "shell.execute_reply": "2021-11-15T05:44:28.258225Z",
     "shell.execute_reply.started": "2021-11-15T05:40:59.017100Z"
    },
    "papermill": {
     "duration": 0.435381,
     "end_time": "2021-11-15T05:44:28.258440",
     "exception": false,
     "start_time": "2021-11-15T05:44:27.823059",
     "status": "completed"
    },
    "tags": []
   },
   "outputs": [
    {
     "data": {
      "text/plain": [
       "<AxesSubplot:>"
      ]
     },
     "execution_count": 17,
     "metadata": {},
     "output_type": "execute_result"
    },
    {
     "data": {
      "image/png": "[encoded data removed]",
      "text/plain": [
       "<Figure size 432x288 with 2 Axes>"
      ]
     },
     "metadata": {
      "needs_background": "light"
     },
     "output_type": "display_data"
    }
   ],
   "source": [
    "import seaborn as sns\n",
    "sns.heatmap(scaled_num_data.corr())"
   ]
  },
  {
   "cell_type": "code",
   "execution_count": 18,
   "id": "decd67cb",
   "metadata": {
    "execution": {
     "iopub.execute_input": "2021-11-15T05:44:28.318727Z",
     "iopub.status.busy": "2021-11-15T05:44:28.316374Z",
     "iopub.status.idle": "2021-11-15T05:44:28.325445Z",
     "shell.execute_reply": "2021-11-15T05:44:28.324967Z",
     "shell.execute_reply.started": "2021-11-15T05:16:06.064346Z"
    },
    "papermill": {
     "duration": 0.043395,
     "end_time": "2021-11-15T05:44:28.325596",
     "exception": false,
     "start_time": "2021-11-15T05:44:28.282201",
     "status": "completed"
    },
    "tags": []
   },
   "outputs": [],
   "source": [
    "obj_data = data.drop(num_cols, axis = 1).copy()\n",
    "obj_cols = obj_data.columns\n",
    "obj_data = pd.get_dummies(obj_data)\n",
    "    \n",
    "scaled_data = pd.concat([scaled_num_data,obj_data],axis = 1)"
   ]
  },
  {
   "cell_type": "code",
   "execution_count": 19,
   "id": "8424e2a3",
   "metadata": {
    "execution": {
     "iopub.execute_input": "2021-11-15T05:44:28.391391Z",
     "iopub.status.busy": "2021-11-15T05:44:28.390395Z",
     "iopub.status.idle": "2021-11-15T05:44:28.394076Z",
     "shell.execute_reply": "2021-11-15T05:44:28.394545Z",
     "shell.execute_reply.started": "2021-11-15T05:15:49.656280Z"
    },
    "papermill": {
     "duration": 0.045425,
     "end_time": "2021-11-15T05:44:28.394734",
     "exception": false,
     "start_time": "2021-11-15T05:44:28.349309",
     "status": "completed"
    },
    "tags": []
   },
   "outputs": [
    {
     "data": {
      "text/html": [
       "<div>\n",
       "<style scoped>\n",
       "    .dataframe tbody tr th:only-of-type {\n",
       "        vertical-align: middle;\n",
       "    }\n",
       "\n",
       "    .dataframe tbody tr th {\n",
       "        vertical-align: top;\n",
       "    }\n",
       "\n",
       "    .dataframe thead th {\n",
       "        text-align: right;\n",
       "    }\n",
       "</style>\n",
       "<table border=\"1\" class=\"dataframe\">\n",
       "  <thead>\n",
       "    <tr style=\"text-align: right;\">\n",
       "      <th></th>\n",
       "      <th>FastingBS</th>\n",
       "      <th>HeartDisease</th>\n",
       "      <th>Sex_F</th>\n",
       "      <th>Sex_M</th>\n",
       "      <th>ChestPainType_ASY</th>\n",
       "      <th>ChestPainType_ATA</th>\n",
       "      <th>ChestPainType_NAP</th>\n",
       "      <th>ChestPainType_TA</th>\n",
       "      <th>RestingECG_LVH</th>\n",
       "      <th>RestingECG_Normal</th>\n",
       "      <th>RestingECG_ST</th>\n",
       "      <th>ExerciseAngina_N</th>\n",
       "      <th>ExerciseAngina_Y</th>\n",
       "      <th>ST_Slope_Down</th>\n",
       "      <th>ST_Slope_Flat</th>\n",
       "      <th>ST_Slope_Up</th>\n",
       "    </tr>\n",
       "  </thead>\n",
       "  <tbody>\n",
       "    <tr>\n",
       "      <th>0</th>\n",
       "      <td>0</td>\n",
       "      <td>0</td>\n",
       "      <td>0</td>\n",
       "      <td>1</td>\n",
       "      <td>0</td>\n",
       "      <td>1</td>\n",
       "      <td>0</td>\n",
       "      <td>0</td>\n",
       "      <td>0</td>\n",
       "      <td>1</td>\n",
       "      <td>0</td>\n",
       "      <td>1</td>\n",
       "      <td>0</td>\n",
       "      <td>0</td>\n",
       "      <td>0</td>\n",
       "      <td>1</td>\n",
       "    </tr>\n",
       "    <tr>\n",
       "      <th>1</th>\n",
       "      <td>0</td>\n",
       "      <td>1</td>\n",
       "      <td>1</td>\n",
       "      <td>0</td>\n",
       "      <td>0</td>\n",
       "      <td>0</td>\n",
       "      <td>1</td>\n",
       "      <td>0</td>\n",
       "      <td>0</td>\n",
       "      <td>1</td>\n",
       "      <td>0</td>\n",
       "      <td>1</td>\n",
       "      <td>0</td>\n",
       "      <td>0</td>\n",
       "      <td>1</td>\n",
       "      <td>0</td>\n",
       "    </tr>\n",
       "    <tr>\n",
       "      <th>2</th>\n",
       "      <td>0</td>\n",
       "      <td>0</td>\n",
       "      <td>0</td>\n",
       "      <td>1</td>\n",
       "      <td>0</td>\n",
       "      <td>1</td>\n",
       "      <td>0</td>\n",
       "      <td>0</td>\n",
       "      <td>0</td>\n",
       "      <td>0</td>\n",
       "      <td>1</td>\n",
       "      <td>1</td>\n",
       "      <td>0</td>\n",
       "      <td>0</td>\n",
       "      <td>0</td>\n",
       "      <td>1</td>\n",
       "    </tr>\n",
       "    <tr>\n",
       "      <th>3</th>\n",
       "      <td>0</td>\n",
       "      <td>1</td>\n",
       "      <td>1</td>\n",
       "      <td>0</td>\n",
       "      <td>1</td>\n",
       "      <td>0</td>\n",
       "      <td>0</td>\n",
       "      <td>0</td>\n",
       "      <td>0</td>\n",
       "      <td>1</td>\n",
       "      <td>0</td>\n",
       "      <td>0</td>\n",
       "      <td>1</td>\n",
       "      <td>0</td>\n",
       "      <td>1</td>\n",
       "      <td>0</td>\n",
       "    </tr>\n",
       "    <tr>\n",
       "      <th>4</th>\n",
       "      <td>0</td>\n",
       "      <td>0</td>\n",
       "      <td>0</td>\n",
       "      <td>1</td>\n",
       "      <td>0</td>\n",
       "      <td>0</td>\n",
       "      <td>1</td>\n",
       "      <td>0</td>\n",
       "      <td>0</td>\n",
       "      <td>1</td>\n",
       "      <td>0</td>\n",
       "      <td>1</td>\n",
       "      <td>0</td>\n",
       "      <td>0</td>\n",
       "      <td>0</td>\n",
       "      <td>1</td>\n",
       "    </tr>\n",
       "    <tr>\n",
       "      <th>...</th>\n",
       "      <td>...</td>\n",
       "      <td>...</td>\n",
       "      <td>...</td>\n",
       "      <td>...</td>\n",
       "      <td>...</td>\n",
       "      <td>...</td>\n",
       "      <td>...</td>\n",
       "      <td>...</td>\n",
       "      <td>...</td>\n",
       "      <td>...</td>\n",
       "      <td>...</td>\n",
       "      <td>...</td>\n",
       "      <td>...</td>\n",
       "      <td>...</td>\n",
       "      <td>...</td>\n",
       "      <td>...</td>\n",
       "    </tr>\n",
       "    <tr>\n",
       "      <th>913</th>\n",
       "      <td>0</td>\n",
       "      <td>1</td>\n",
       "      <td>0</td>\n",
       "      <td>1</td>\n",
       "      <td>0</td>\n",
       "      <td>0</td>\n",
       "      <td>0</td>\n",
       "      <td>1</td>\n",
       "      <td>0</td>\n",
       "      <td>1</td>\n",
       "      <td>0</td>\n",
       "      <td>1</td>\n",
       "      <td>0</td>\n",
       "      <td>0</td>\n",
       "      <td>1</td>\n",
       "      <td>0</td>\n",
       "    </tr>\n",
       "    <tr>\n",
       "      <th>914</th>\n",
       "      <td>1</td>\n",
       "      <td>1</td>\n",
       "      <td>0</td>\n",
       "      <td>1</td>\n",
       "      <td>1</td>\n",
       "      <td>0</td>\n",
       "      <td>0</td>\n",
       "      <td>0</td>\n",
       "      <td>0</td>\n",
       "      <td>1</td>\n",
       "      <td>0</td>\n",
       "      <td>1</td>\n",
       "      <td>0</td>\n",
       "      <td>0</td>\n",
       "      <td>1</td>\n",
       "      <td>0</td>\n",
       "    </tr>\n",
       "    <tr>\n",
       "      <th>915</th>\n",
       "      <td>0</td>\n",
       "      <td>1</td>\n",
       "      <td>0</td>\n",
       "      <td>1</td>\n",
       "      <td>1</td>\n",
       "      <td>0</td>\n",
       "      <td>0</td>\n",
       "      <td>0</td>\n",
       "      <td>0</td>\n",
       "      <td>1</td>\n",
       "      <td>0</td>\n",
       "      <td>0</td>\n",
       "      <td>1</td>\n",
       "      <td>0</td>\n",
       "      <td>1</td>\n",
       "      <td>0</td>\n",
       "    </tr>\n",
       "    <tr>\n",
       "      <th>916</th>\n",
       "      <td>0</td>\n",
       "      <td>1</td>\n",
       "      <td>1</td>\n",
       "      <td>0</td>\n",
       "      <td>0</td>\n",
       "      <td>1</td>\n",
       "      <td>0</td>\n",
       "      <td>0</td>\n",
       "      <td>1</td>\n",
       "      <td>0</td>\n",
       "      <td>0</td>\n",
       "      <td>1</td>\n",
       "      <td>0</td>\n",
       "      <td>0</td>\n",
       "      <td>1</td>\n",
       "      <td>0</td>\n",
       "    </tr>\n",
       "    <tr>\n",
       "      <th>917</th>\n",
       "      <td>0</td>\n",
       "      <td>0</td>\n",
       "      <td>0</td>\n",
       "      <td>1</td>\n",
       "      <td>0</td>\n",
       "      <td>0</td>\n",
       "      <td>1</td>\n",
       "      <td>0</td>\n",
       "      <td>0</td>\n",
       "      <td>1</td>\n",
       "      <td>0</td>\n",
       "      <td>1</td>\n",
       "      <td>0</td>\n",
       "      <td>0</td>\n",
       "      <td>0</td>\n",
       "      <td>1</td>\n",
       "    </tr>\n",
       "  </tbody>\n",
       "</table>\n",
       "<p>918 rows × 16 columns</p>\n",
       "</div>"
      ],
      "text/plain": [
       "     FastingBS  HeartDisease  Sex_F  Sex_M  ChestPainType_ASY  \\\n",
       "0            0             0      0      1                  0   \n",
       "1            0             1      1      0                  0   \n",
       "2            0             0      0      1                  0   \n",
       "3            0             1      1      0                  1   \n",
       "4            0             0      0      1                  0   \n",
       "..         ...           ...    ...    ...                ...   \n",
       "913          0             1      0      1                  0   \n",
       "914          1             1      0      1                  1   \n",
       "915          0             1      0      1                  1   \n",
       "916          0             1      1      0                  0   \n",
       "917          0             0      0      1                  0   \n",
       "\n",
       "     ChestPainType_ATA  ChestPainType_NAP  ChestPainType_TA  RestingECG_LVH  \\\n",
       "0                    1                  0                 0               0   \n",
       "1                    0                  1                 0               0   \n",
       "2                    1                  0                 0               0   \n",
       "3                    0                  0                 0               0   \n",
       "4                    0                  1                 0               0   \n",
       "..                 ...                ...               ...             ...   \n",
       "913                  0                  0                 1               0   \n",
       "914                  0                  0                 0               0   \n",
       "915                  0                  0                 0               0   \n",
       "916                  1                  0                 0               1   \n",
       "917                  0                  1                 0               0   \n",
       "\n",
       "     RestingECG_Normal  RestingECG_ST  ExerciseAngina_N  ExerciseAngina_Y  \\\n",
       "0                    1              0                 1                 0   \n",
       "1                    1              0                 1                 0   \n",
       "2                    0              1                 1                 0   \n",
       "3                    1              0                 0                 1   \n",
       "4                    1              0                 1                 0   \n",
       "..                 ...            ...               ...               ...   \n",
       "913                  1              0                 1                 0   \n",
       "914                  1              0                 1                 0   \n",
       "915                  1              0                 0                 1   \n",
       "916                  0              0                 1                 0   \n",
       "917                  1              0                 1                 0   \n",
       "\n",
       "     ST_Slope_Down  ST_Slope_Flat  ST_Slope_Up  \n",
       "0                0              0            1  \n",
       "1                0              1            0  \n",
       "2                0              0            1  \n",
       "3                0              1            0  \n",
       "4                0              0            1  \n",
       "..             ...            ...          ...  \n",
       "913              0              1            0  \n",
       "914              0              1            0  \n",
       "915              0              1            0  \n",
       "916              0              1            0  \n",
       "917              0              0            1  \n",
       "\n",
       "[918 rows x 16 columns]"
      ]
     },
     "execution_count": 19,
     "metadata": {},
     "output_type": "execute_result"
    }
   ],
   "source": [
    "obj_data"
   ]
  },
  {
   "cell_type": "code",
   "execution_count": 20,
   "id": "56552754",
   "metadata": {
    "execution": {
     "iopub.execute_input": "2021-11-15T05:44:28.457213Z",
     "iopub.status.busy": "2021-11-15T05:44:28.452348Z",
     "iopub.status.idle": "2021-11-15T05:44:28.470661Z",
     "shell.execute_reply": "2021-11-15T05:44:28.470006Z",
     "shell.execute_reply.started": "2021-11-15T05:16:10.548211Z"
    },
    "papermill": {
     "duration": 0.051715,
     "end_time": "2021-11-15T05:44:28.470818",
     "exception": false,
     "start_time": "2021-11-15T05:44:28.419103",
     "status": "completed"
    },
    "tags": []
   },
   "outputs": [
    {
     "data": {
      "text/html": [
       "<div>\n",
       "<style scoped>\n",
       "    .dataframe tbody tr th:only-of-type {\n",
       "        vertical-align: middle;\n",
       "    }\n",
       "\n",
       "    .dataframe tbody tr th {\n",
       "        vertical-align: top;\n",
       "    }\n",
       "\n",
       "    .dataframe thead th {\n",
       "        text-align: right;\n",
       "    }\n",
       "</style>\n",
       "<table border=\"1\" class=\"dataframe\">\n",
       "  <thead>\n",
       "    <tr style=\"text-align: right;\">\n",
       "      <th></th>\n",
       "      <th>Age</th>\n",
       "      <th>RestingBP</th>\n",
       "      <th>Cholesterol</th>\n",
       "      <th>MaxHR</th>\n",
       "      <th>Oldpeak</th>\n",
       "      <th>FastingBS</th>\n",
       "      <th>HeartDisease</th>\n",
       "      <th>Sex_F</th>\n",
       "      <th>Sex_M</th>\n",
       "      <th>ChestPainType_ASY</th>\n",
       "      <th>...</th>\n",
       "      <th>ChestPainType_NAP</th>\n",
       "      <th>ChestPainType_TA</th>\n",
       "      <th>RestingECG_LVH</th>\n",
       "      <th>RestingECG_Normal</th>\n",
       "      <th>RestingECG_ST</th>\n",
       "      <th>ExerciseAngina_N</th>\n",
       "      <th>ExerciseAngina_Y</th>\n",
       "      <th>ST_Slope_Down</th>\n",
       "      <th>ST_Slope_Flat</th>\n",
       "      <th>ST_Slope_Up</th>\n",
       "    </tr>\n",
       "  </thead>\n",
       "  <tbody>\n",
       "    <tr>\n",
       "      <th>0</th>\n",
       "      <td>0.244898</td>\n",
       "      <td>0.500000</td>\n",
       "      <td>0.393822</td>\n",
       "      <td>0.788732</td>\n",
       "      <td>0.295455</td>\n",
       "      <td>0</td>\n",
       "      <td>0</td>\n",
       "      <td>0</td>\n",
       "      <td>1</td>\n",
       "      <td>0</td>\n",
       "      <td>...</td>\n",
       "      <td>0</td>\n",
       "      <td>0</td>\n",
       "      <td>0</td>\n",
       "      <td>1</td>\n",
       "      <td>0</td>\n",
       "      <td>1</td>\n",
       "      <td>0</td>\n",
       "      <td>0</td>\n",
       "      <td>0</td>\n",
       "      <td>1</td>\n",
       "    </tr>\n",
       "    <tr>\n",
       "      <th>1</th>\n",
       "      <td>0.428571</td>\n",
       "      <td>0.666667</td>\n",
       "      <td>0.183398</td>\n",
       "      <td>0.676056</td>\n",
       "      <td>0.409091</td>\n",
       "      <td>0</td>\n",
       "      <td>1</td>\n",
       "      <td>1</td>\n",
       "      <td>0</td>\n",
       "      <td>0</td>\n",
       "      <td>...</td>\n",
       "      <td>1</td>\n",
       "      <td>0</td>\n",
       "      <td>0</td>\n",
       "      <td>1</td>\n",
       "      <td>0</td>\n",
       "      <td>1</td>\n",
       "      <td>0</td>\n",
       "      <td>0</td>\n",
       "      <td>1</td>\n",
       "      <td>0</td>\n",
       "    </tr>\n",
       "    <tr>\n",
       "      <th>2</th>\n",
       "      <td>0.183673</td>\n",
       "      <td>0.416667</td>\n",
       "      <td>0.382239</td>\n",
       "      <td>0.267606</td>\n",
       "      <td>0.295455</td>\n",
       "      <td>0</td>\n",
       "      <td>0</td>\n",
       "      <td>0</td>\n",
       "      <td>1</td>\n",
       "      <td>0</td>\n",
       "      <td>...</td>\n",
       "      <td>0</td>\n",
       "      <td>0</td>\n",
       "      <td>0</td>\n",
       "      <td>0</td>\n",
       "      <td>1</td>\n",
       "      <td>1</td>\n",
       "      <td>0</td>\n",
       "      <td>0</td>\n",
       "      <td>0</td>\n",
       "      <td>1</td>\n",
       "    </tr>\n",
       "    <tr>\n",
       "      <th>3</th>\n",
       "      <td>0.408163</td>\n",
       "      <td>0.483333</td>\n",
       "      <td>0.249035</td>\n",
       "      <td>0.338028</td>\n",
       "      <td>0.465909</td>\n",
       "      <td>0</td>\n",
       "      <td>1</td>\n",
       "      <td>1</td>\n",
       "      <td>0</td>\n",
       "      <td>1</td>\n",
       "      <td>...</td>\n",
       "      <td>0</td>\n",
       "      <td>0</td>\n",
       "      <td>0</td>\n",
       "      <td>1</td>\n",
       "      <td>0</td>\n",
       "      <td>0</td>\n",
       "      <td>1</td>\n",
       "      <td>0</td>\n",
       "      <td>1</td>\n",
       "      <td>0</td>\n",
       "    </tr>\n",
       "    <tr>\n",
       "      <th>4</th>\n",
       "      <td>0.530612</td>\n",
       "      <td>0.583333</td>\n",
       "      <td>0.212355</td>\n",
       "      <td>0.436620</td>\n",
       "      <td>0.295455</td>\n",
       "      <td>0</td>\n",
       "      <td>0</td>\n",
       "      <td>0</td>\n",
       "      <td>1</td>\n",
       "      <td>0</td>\n",
       "      <td>...</td>\n",
       "      <td>1</td>\n",
       "      <td>0</td>\n",
       "      <td>0</td>\n",
       "      <td>1</td>\n",
       "      <td>0</td>\n",
       "      <td>1</td>\n",
       "      <td>0</td>\n",
       "      <td>0</td>\n",
       "      <td>0</td>\n",
       "      <td>1</td>\n",
       "    </tr>\n",
       "    <tr>\n",
       "      <th>...</th>\n",
       "      <td>...</td>\n",
       "      <td>...</td>\n",
       "      <td>...</td>\n",
       "      <td>...</td>\n",
       "      <td>...</td>\n",
       "      <td>...</td>\n",
       "      <td>...</td>\n",
       "      <td>...</td>\n",
       "      <td>...</td>\n",
       "      <td>...</td>\n",
       "      <td>...</td>\n",
       "      <td>...</td>\n",
       "      <td>...</td>\n",
       "      <td>...</td>\n",
       "      <td>...</td>\n",
       "      <td>...</td>\n",
       "      <td>...</td>\n",
       "      <td>...</td>\n",
       "      <td>...</td>\n",
       "      <td>...</td>\n",
       "      <td>...</td>\n",
       "    </tr>\n",
       "    <tr>\n",
       "      <th>913</th>\n",
       "      <td>0.346939</td>\n",
       "      <td>0.250000</td>\n",
       "      <td>0.345560</td>\n",
       "      <td>0.507042</td>\n",
       "      <td>0.431818</td>\n",
       "      <td>0</td>\n",
       "      <td>1</td>\n",
       "      <td>0</td>\n",
       "      <td>1</td>\n",
       "      <td>0</td>\n",
       "      <td>...</td>\n",
       "      <td>0</td>\n",
       "      <td>1</td>\n",
       "      <td>0</td>\n",
       "      <td>1</td>\n",
       "      <td>0</td>\n",
       "      <td>1</td>\n",
       "      <td>0</td>\n",
       "      <td>0</td>\n",
       "      <td>1</td>\n",
       "      <td>0</td>\n",
       "    </tr>\n",
       "    <tr>\n",
       "      <th>914</th>\n",
       "      <td>0.816327</td>\n",
       "      <td>0.533333</td>\n",
       "      <td>0.208494</td>\n",
       "      <td>0.570423</td>\n",
       "      <td>0.681818</td>\n",
       "      <td>1</td>\n",
       "      <td>1</td>\n",
       "      <td>0</td>\n",
       "      <td>1</td>\n",
       "      <td>1</td>\n",
       "      <td>...</td>\n",
       "      <td>0</td>\n",
       "      <td>0</td>\n",
       "      <td>0</td>\n",
       "      <td>1</td>\n",
       "      <td>0</td>\n",
       "      <td>1</td>\n",
       "      <td>0</td>\n",
       "      <td>0</td>\n",
       "      <td>1</td>\n",
       "      <td>0</td>\n",
       "    </tr>\n",
       "    <tr>\n",
       "      <th>915</th>\n",
       "      <td>0.591837</td>\n",
       "      <td>0.416667</td>\n",
       "      <td>0.088803</td>\n",
       "      <td>0.387324</td>\n",
       "      <td>0.431818</td>\n",
       "      <td>0</td>\n",
       "      <td>1</td>\n",
       "      <td>0</td>\n",
       "      <td>1</td>\n",
       "      <td>1</td>\n",
       "      <td>...</td>\n",
       "      <td>0</td>\n",
       "      <td>0</td>\n",
       "      <td>0</td>\n",
       "      <td>1</td>\n",
       "      <td>0</td>\n",
       "      <td>0</td>\n",
       "      <td>1</td>\n",
       "      <td>0</td>\n",
       "      <td>1</td>\n",
       "      <td>0</td>\n",
       "    </tr>\n",
       "    <tr>\n",
       "      <th>916</th>\n",
       "      <td>0.591837</td>\n",
       "      <td>0.416667</td>\n",
       "      <td>0.291506</td>\n",
       "      <td>0.802817</td>\n",
       "      <td>0.295455</td>\n",
       "      <td>0</td>\n",
       "      <td>1</td>\n",
       "      <td>1</td>\n",
       "      <td>0</td>\n",
       "      <td>0</td>\n",
       "      <td>...</td>\n",
       "      <td>0</td>\n",
       "      <td>0</td>\n",
       "      <td>1</td>\n",
       "      <td>0</td>\n",
       "      <td>0</td>\n",
       "      <td>1</td>\n",
       "      <td>0</td>\n",
       "      <td>0</td>\n",
       "      <td>1</td>\n",
       "      <td>0</td>\n",
       "    </tr>\n",
       "    <tr>\n",
       "      <th>917</th>\n",
       "      <td>0.204082</td>\n",
       "      <td>0.483333</td>\n",
       "      <td>0.173745</td>\n",
       "      <td>0.795775</td>\n",
       "      <td>0.295455</td>\n",
       "      <td>0</td>\n",
       "      <td>0</td>\n",
       "      <td>0</td>\n",
       "      <td>1</td>\n",
       "      <td>0</td>\n",
       "      <td>...</td>\n",
       "      <td>1</td>\n",
       "      <td>0</td>\n",
       "      <td>0</td>\n",
       "      <td>1</td>\n",
       "      <td>0</td>\n",
       "      <td>1</td>\n",
       "      <td>0</td>\n",
       "      <td>0</td>\n",
       "      <td>0</td>\n",
       "      <td>1</td>\n",
       "    </tr>\n",
       "  </tbody>\n",
       "</table>\n",
       "<p>918 rows × 21 columns</p>\n",
       "</div>"
      ],
      "text/plain": [
       "          Age  RestingBP  Cholesterol     MaxHR   Oldpeak  FastingBS  \\\n",
       "0    0.244898   0.500000     0.393822  0.788732  0.295455          0   \n",
       "1    0.428571   0.666667     0.183398  0.676056  0.409091          0   \n",
       "2    0.183673   0.416667     0.382239  0.267606  0.295455          0   \n",
       "3    0.408163   0.483333     0.249035  0.338028  0.465909          0   \n",
       "4    0.530612   0.583333     0.212355  0.436620  0.295455          0   \n",
       "..        ...        ...          ...       ...       ...        ...   \n",
       "913  0.346939   0.250000     0.345560  0.507042  0.431818          0   \n",
       "914  0.816327   0.533333     0.208494  0.570423  0.681818          1   \n",
       "915  0.591837   0.416667     0.088803  0.387324  0.431818          0   \n",
       "916  0.591837   0.416667     0.291506  0.802817  0.295455          0   \n",
       "917  0.204082   0.483333     0.173745  0.795775  0.295455          0   \n",
       "\n",
       "     HeartDisease  Sex_F  Sex_M  ChestPainType_ASY  ...  ChestPainType_NAP  \\\n",
       "0               0      0      1                  0  ...                  0   \n",
       "1               1      1      0                  0  ...                  1   \n",
       "2               0      0      1                  0  ...                  0   \n",
       "3               1      1      0                  1  ...                  0   \n",
       "4               0      0      1                  0  ...                  1   \n",
       "..            ...    ...    ...                ...  ...                ...   \n",
       "913             1      0      1                  0  ...                  0   \n",
       "914             1      0      1                  1  ...                  0   \n",
       "915             1      0      1                  1  ...                  0   \n",
       "916             1      1      0                  0  ...                  0   \n",
       "917             0      0      1                  0  ...                  1   \n",
       "\n",
       "     ChestPainType_TA  RestingECG_LVH  RestingECG_Normal  RestingECG_ST  \\\n",
       "0                   0               0                  1              0   \n",
       "1                   0               0                  1              0   \n",
       "2                   0               0                  0              1   \n",
       "3                   0               0                  1              0   \n",
       "4                   0               0                  1              0   \n",
       "..                ...             ...                ...            ...   \n",
       "913                 1               0                  1              0   \n",
       "914                 0               0                  1              0   \n",
       "915                 0               0                  1              0   \n",
       "916                 0               1                  0              0   \n",
       "917                 0               0                  1              0   \n",
       "\n",
       "     ExerciseAngina_N  ExerciseAngina_Y  ST_Slope_Down  ST_Slope_Flat  \\\n",
       "0                   1                 0              0              0   \n",
       "1                   1                 0              0              1   \n",
       "2                   1                 0              0              0   \n",
       "3                   0                 1              0              1   \n",
       "4                   1                 0              0              0   \n",
       "..                ...               ...            ...            ...   \n",
       "913                 1                 0              0              1   \n",
       "914                 1                 0              0              1   \n",
       "915                 0                 1              0              1   \n",
       "916                 1                 0              0              1   \n",
       "917                 1                 0              0              0   \n",
       "\n",
       "     ST_Slope_Up  \n",
       "0              1  \n",
       "1              0  \n",
       "2              1  \n",
       "3              0  \n",
       "4              1  \n",
       "..           ...  \n",
       "913            0  \n",
       "914            0  \n",
       "915            0  \n",
       "916            0  \n",
       "917            1  \n",
       "\n",
       "[918 rows x 21 columns]"
      ]
     },
     "execution_count": 20,
     "metadata": {},
     "output_type": "execute_result"
    }
   ],
   "source": [
    "scaled_data"
   ]
  },
  {
   "cell_type": "code",
   "execution_count": 21,
   "id": "14216a36",
   "metadata": {
    "execution": {
     "iopub.execute_input": "2021-11-15T05:44:28.534645Z",
     "iopub.status.busy": "2021-11-15T05:44:28.527407Z",
     "iopub.status.idle": "2021-11-15T05:44:28.839867Z",
     "shell.execute_reply": "2021-11-15T05:44:28.840408Z",
     "shell.execute_reply.started": "2021-11-15T05:43:10.011482Z"
    },
    "papermill": {
     "duration": 0.344,
     "end_time": "2021-11-15T05:44:28.840611",
     "exception": false,
     "start_time": "2021-11-15T05:44:28.496611",
     "status": "completed"
    },
    "tags": []
   },
   "outputs": [
    {
     "data": {
      "text/plain": [
       "<AxesSubplot:>"
      ]
     },
     "execution_count": 21,
     "metadata": {},
     "output_type": "execute_result"
    },
    {
     "data": {
      "image/png": "[encoded data removed]",
      "text/plain": [
       "<Figure size 432x288 with 2 Axes>"
      ]
     },
     "metadata": {
      "needs_background": "light"
     },
     "output_type": "display_data"
    }
   ],
   "source": [
    "import seaborn as sns\n",
    "sns.heatmap(scaled_data.iloc[:,0:7].corr())"
   ]
  },
  {
   "cell_type": "code",
   "execution_count": 22,
   "id": "b8c84f23",
   "metadata": {
    "execution": {
     "iopub.execute_input": "2021-11-15T05:44:28.900645Z",
     "iopub.status.busy": "2021-11-15T05:44:28.896457Z",
     "iopub.status.idle": "2021-11-15T05:44:28.903330Z",
     "shell.execute_reply": "2021-11-15T05:44:28.903841Z",
     "shell.execute_reply.started": "2021-11-15T05:23:15.947507Z"
    },
    "papermill": {
     "duration": 0.03694,
     "end_time": "2021-11-15T05:44:28.904043",
     "exception": false,
     "start_time": "2021-11-15T05:44:28.867103",
     "status": "completed"
    },
    "tags": []
   },
   "outputs": [
    {
     "data": {
      "text/plain": [
       "Index(['Age', 'RestingBP', 'Cholesterol', 'MaxHR', 'Oldpeak', 'FastingBS',\n",
       "       'HeartDisease', 'Sex_F', 'Sex_M', 'ChestPainType_ASY',\n",
       "       'ChestPainType_ATA', 'ChestPainType_NAP', 'ChestPainType_TA',\n",
       "       'RestingECG_LVH', 'RestingECG_Normal', 'RestingECG_ST',\n",
       "       'ExerciseAngina_N', 'ExerciseAngina_Y', 'ST_Slope_Down',\n",
       "       'ST_Slope_Flat', 'ST_Slope_Up'],\n",
       "      dtype='object')"
      ]
     },
     "execution_count": 22,
     "metadata": {},
     "output_type": "execute_result"
    }
   ],
   "source": [
    "scaled_data.columns"
   ]
  },
  {
   "cell_type": "markdown",
   "id": "ecbca7dd",
   "metadata": {
    "papermill": {
     "duration": 0.026324,
     "end_time": "2021-11-15T05:44:28.956787",
     "exception": false,
     "start_time": "2021-11-15T05:44:28.930463",
     "status": "completed"
    },
    "tags": []
   },
   "source": [
    "모형"
   ]
  },
  {
   "cell_type": "code",
   "execution_count": 23,
   "id": "98102582",
   "metadata": {
    "execution": {
     "iopub.execute_input": "2021-11-15T05:44:29.013888Z",
     "iopub.status.busy": "2021-11-15T05:44:29.013281Z",
     "iopub.status.idle": "2021-11-15T05:44:29.073880Z",
     "shell.execute_reply": "2021-11-15T05:44:29.073362Z",
     "shell.execute_reply.started": "2021-11-15T05:34:36.608725Z"
    },
    "papermill": {
     "duration": 0.089739,
     "end_time": "2021-11-15T05:44:29.074026",
     "exception": false,
     "start_time": "2021-11-15T05:44:28.984287",
     "status": "completed"
    },
    "tags": []
   },
   "outputs": [],
   "source": [
    "from sklearn.model_selection import train_test_split\n",
    "\n",
    "x = scaled_data.drop('HeartDisease', axis = 1).copy()\n",
    "y = scaled_data['HeartDisease'].copy()\n",
    "\n",
    "train_x, test_x, train_y, test_y = train_test_split(x, y)"
   ]
  },
  {
   "cell_type": "code",
   "execution_count": 24,
   "id": "0976f1fd",
   "metadata": {
    "execution": {
     "iopub.execute_input": "2021-11-15T05:44:29.131512Z",
     "iopub.status.busy": "2021-11-15T05:44:29.130935Z",
     "iopub.status.idle": "2021-11-15T05:44:29.136492Z",
     "shell.execute_reply": "2021-11-15T05:44:29.136967Z",
     "shell.execute_reply.started": "2021-11-15T05:34:37.052287Z"
    },
    "papermill": {
     "duration": 0.034992,
     "end_time": "2021-11-15T05:44:29.137121",
     "exception": false,
     "start_time": "2021-11-15T05:44:29.102129",
     "status": "completed"
    },
    "tags": []
   },
   "outputs": [
    {
     "name": "stdout",
     "output_type": "stream",
     "text": [
      "(688, 20)\n",
      "(688,)\n",
      "(230, 20)\n",
      "(230,)\n"
     ]
    }
   ],
   "source": [
    "print(train_x.shape)\n",
    "print(train_y.shape)\n",
    "print(test_x.shape)\n",
    "print(test_y.shape)\n"
   ]
  },
  {
   "cell_type": "markdown",
   "id": "17f7d7e1",
   "metadata": {
    "papermill": {
     "duration": 0.026327,
     "end_time": "2021-11-15T05:44:29.190036",
     "exception": false,
     "start_time": "2021-11-15T05:44:29.163709",
     "status": "completed"
    },
    "tags": []
   },
   "source": [
    "random forest"
   ]
  },
  {
   "cell_type": "code",
   "execution_count": 25,
   "id": "4d8fabf0",
   "metadata": {
    "execution": {
     "iopub.execute_input": "2021-11-15T05:44:29.247984Z",
     "iopub.status.busy": "2021-11-15T05:44:29.247352Z",
     "iopub.status.idle": "2021-11-15T05:44:29.372871Z",
     "shell.execute_reply": "2021-11-15T05:44:29.373775Z",
     "shell.execute_reply.started": "2021-11-15T05:34:40.045995Z"
    },
    "papermill": {
     "duration": 0.156518,
     "end_time": "2021-11-15T05:44:29.374103",
     "exception": false,
     "start_time": "2021-11-15T05:44:29.217585",
     "status": "completed"
    },
    "tags": []
   },
   "outputs": [
    {
     "data": {
      "text/plain": [
       "LogisticRegression()"
      ]
     },
     "execution_count": 25,
     "metadata": {},
     "output_type": "execute_result"
    }
   ],
   "source": [
    "from sklearn.linear_model import LogisticRegression\n",
    "\n",
    "logit_model = LogisticRegression()\n",
    "logit_model.fit(train_x, train_y)\n",
    "\n"
   ]
  },
  {
   "cell_type": "code",
   "execution_count": 26,
   "id": "17fdc043",
   "metadata": {
    "execution": {
     "iopub.execute_input": "2021-11-15T05:44:29.496401Z",
     "iopub.status.busy": "2021-11-15T05:44:29.495179Z",
     "iopub.status.idle": "2021-11-15T05:44:29.502915Z",
     "shell.execute_reply": "2021-11-15T05:44:29.503919Z",
     "shell.execute_reply.started": "2021-11-15T05:35:25.933957Z"
    },
    "papermill": {
     "duration": 0.071118,
     "end_time": "2021-11-15T05:44:29.504229",
     "exception": false,
     "start_time": "2021-11-15T05:44:29.433111",
     "status": "completed"
    },
    "tags": []
   },
   "outputs": [
    {
     "data": {
      "text/plain": [
       "0.8633720930232558"
      ]
     },
     "execution_count": 26,
     "metadata": {},
     "output_type": "execute_result"
    }
   ],
   "source": [
    "logit_model.score(train_x, train_y)"
   ]
  },
  {
   "cell_type": "code",
   "execution_count": 27,
   "id": "6da525c9",
   "metadata": {
    "execution": {
     "iopub.execute_input": "2021-11-15T05:44:29.618829Z",
     "iopub.status.busy": "2021-11-15T05:44:29.618195Z",
     "iopub.status.idle": "2021-11-15T05:44:29.623280Z",
     "shell.execute_reply": "2021-11-15T05:44:29.623840Z",
     "shell.execute_reply.started": "2021-11-15T05:35:36.131672Z"
    },
    "papermill": {
     "duration": 0.065876,
     "end_time": "2021-11-15T05:44:29.624021",
     "exception": false,
     "start_time": "2021-11-15T05:44:29.558145",
     "status": "completed"
    },
    "tags": []
   },
   "outputs": [
    {
     "data": {
      "text/plain": [
       "0.8782608695652174"
      ]
     },
     "execution_count": 27,
     "metadata": {},
     "output_type": "execute_result"
    }
   ],
   "source": [
    "logit_model.score(test_x, test_y)"
   ]
  },
  {
   "cell_type": "code",
   "execution_count": null,
   "id": "36064260",
   "metadata": {
    "execution": {
     "iopub.execute_input": "2021-11-15T05:37:47.301540Z",
     "iopub.status.busy": "2021-11-15T05:37:47.300995Z",
     "iopub.status.idle": "2021-11-15T05:37:47.543908Z",
     "shell.execute_reply": "2021-11-15T05:37:47.542765Z",
     "shell.execute_reply.started": "2021-11-15T05:37:47.301499Z"
    },
    "papermill": {
     "duration": 0.027523,
     "end_time": "2021-11-15T05:44:29.679628",
     "exception": false,
     "start_time": "2021-11-15T05:44:29.652105",
     "status": "completed"
    },
    "tags": []
   },
   "outputs": [],
   "source": []
  }
 ],
 "metadata": {
  "kernelspec": {
   "display_name": "Python 3",
   "language": "python",
   "name": "python3"
  },
  "language_info": {
   "codemirror_mode": {
    "name": "ipython",
    "version": 3
   },
   "file_extension": ".py",
   "mimetype": "text/x-python",
   "name": "python",
   "nbconvert_exporter": "python",
   "pygments_lexer": "ipython3",
   "version": "3.7.10"
  },
  "papermill": {
   "default_parameters": {},
   "duration": 13.543056,
   "end_time": "2021-11-15T05:44:30.519968",
   "environment_variables": {},
   "exception": null,
   "input_path": "__notebook__.ipynb",
   "output_path": "__notebook__.ipynb",
   "parameters": {},
   "start_time": "2021-11-15T05:44:16.976912",
   "version": "2.3.3"
  }
 },
 "nbformat": 4,
 "nbformat_minor": 5
}
